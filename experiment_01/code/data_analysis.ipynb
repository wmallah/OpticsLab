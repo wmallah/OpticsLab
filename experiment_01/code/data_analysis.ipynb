{
 "cells": [
  {
   "cell_type": "code",
   "execution_count": 3,
   "metadata": {},
   "outputs": [],
   "source": [
    "import numpy as np\n",
    "import matplotlib.pyplot as plt"
   ]
  },
  {
   "cell_type": "markdown",
   "metadata": {},
   "source": [
    "polarization\n",
    "\n",
    "light_intensity\n",
    "\n",
    "water_plus_sugar_volume\n",
    "\n",
    "sugar_mass"
   ]
  },
  {
   "cell_type": "code",
   "execution_count": 5,
   "metadata": {},
   "outputs": [
    {
     "data": {
      "text/plain": [
       "array([], dtype=float64)"
      ]
     },
     "execution_count": 5,
     "metadata": {},
     "output_type": "execute_result"
    }
   ],
   "source": [
    "small_beaker_length = 69.9\n",
    "\n",
    "# measurement occured at intervals of 10 degrees from 0 to 90 on the first polarization lens\n",
    "\n",
    "# for polarization: take raw reading and subtract offset (from where the angle is measured) of 60 degrees\n",
    "\n",
    "polarization_wo_beaker = np.array([90,80, 70, 60, 50, 40, 30, 20, 10, 0])\n",
    "intensity_wo_beaker = np.array([0, 0.14, 0.47, 1.00, 1.65, 2.40, 3.0, 3.4, 3.6, 3.8])\n",
    "\n",
    "polarization_w_beaker = np.array([90,80, 70, 60, 50, 40, 30, 20, 10, 0])\n",
    "intensity_w_beaker = np.array([0, ])"
   ]
  }
 ],
 "metadata": {
  "kernelspec": {
   "display_name": "Python 3",
   "language": "python",
   "name": "python3"
  },
  "language_info": {
   "codemirror_mode": {
    "name": "ipython",
    "version": 3
   },
   "file_extension": ".py",
   "mimetype": "text/x-python",
   "name": "python",
   "nbconvert_exporter": "python",
   "pygments_lexer": "ipython3",
   "version": "3.12.0"
  }
 },
 "nbformat": 4,
 "nbformat_minor": 2
}
